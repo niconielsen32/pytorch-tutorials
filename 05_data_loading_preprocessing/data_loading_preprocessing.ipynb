{
 "cells": [
  {
   "cell_type": "markdown",
   "source": "# Data Loading, Preprocessing, and Augmentation in PyTorch\n\nThis notebook provides a comprehensive guide to efficiently loading, preprocessing, and augmenting data in PyTorch. Effective data handling is critical for any machine learning pipeline.",
   "metadata": {}
  },
  {
   "cell_type": "code",
   "source": "import torch\nimport torch.nn as nn\nimport torch.optim as optim\nimport torchvision\nimport torchvision.transforms as transforms\nimport matplotlib.pyplot as plt\nimport numpy as np\nfrom torch.utils.data import Dataset, DataLoader, random_split\nfrom PIL import Image\nimport os\nimport pandas as pd\nfrom pathlib import Path\nimport glob\nimport time\n\n# Set random seed for reproducibility\ntorch.manual_seed(42)\nnp.random.seed(42)\n\n# Device configuration\ndevice = torch.device('cuda' if torch.cuda.is_available() else 'cpu')\nprint(f\"Using device: {device}\")\nprint(f\"PyTorch version: {torch.__version__}\")\n\n# Create output directory\noutput_dir = \"05_data_loading_preprocessing_outputs\"\nos.makedirs(output_dir, exist_ok=True)",
   "metadata": {},
   "outputs": []
  },
  {
   "cell_type": "markdown",
   "source": "## 1. Introduction to Data Handling\n\nData loading and preprocessing are critical steps in any machine learning pipeline:\n\n- **Loading:** Reading data from various sources (files, databases)\n- **Preprocessing:** Cleaning, transforming, and structuring data\n- **Augmentation:** Artificially expanding the dataset for better generalization",
   "metadata": {}
  },
  {
   "cell_type": "code",
   "source": "# Demonstrate built-in datasets\nprint(\"Using Built-in Datasets:\")\nprint(\"-\" * 30)\n\n# Load MNIST dataset\nmnist_dataset = torchvision.datasets.MNIST(\n    root='./data', \n    train=True, \n    download=True, \n    transform=transforms.ToTensor()\n)\n\nprint(f\"Dataset size: {len(mnist_dataset)}\")\nsample, label = mnist_dataset[0]\nprint(f\"Sample shape: {sample.shape}\")\nprint(f\"Sample dtype: {sample.dtype}\")\nprint(f\"Label: {label}\")\n\n# Visualize a sample\nplt.figure(figsize=(8, 4))\nplt.subplot(1, 2, 1)\nplt.imshow(sample.squeeze(), cmap='gray')\nplt.title(f'MNIST Sample (Label: {label})')\nplt.axis('off')\n\n# Show multiple samples\nplt.subplot(1, 2, 2)\nfig, axes = plt.subplots(2, 3, figsize=(6, 4))\nfor i, ax in enumerate(axes.flat):\n    if i < 6:\n        img, lbl = mnist_dataset[i]\n        ax.imshow(img.squeeze(), cmap='gray')\n        ax.set_title(f'Label: {lbl}')\n        ax.axis('off')\nplt.tight_layout()\nplt.show()",
   "metadata": {},
   "outputs": []
  }
 ],
 "metadata": {
  "language_info": {
   "name": "python"
  }
 },
 "nbformat": 4,
 "nbformat_minor": 2
}