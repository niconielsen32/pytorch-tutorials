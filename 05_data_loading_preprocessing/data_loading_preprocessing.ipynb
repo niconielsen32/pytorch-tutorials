{
 "cells": [
  {
   "cell_type": "markdown",
   "metadata": {},
   "source": [
    "# Data Loading, Preprocessing, and Augmentation in PyTorch\n",
    "\n",
    "This notebook provides a comprehensive guide to efficiently loading, preprocessing, and augmenting data in PyTorch. Effective data handling is critical for any machine learning pipeline."
   ]
  },
  {
   "cell_type": "code",
   "execution_count": null,
   "metadata": {},
   "outputs": [],
   "source": [
    "import torch\n",
    "import torch.nn as nn\n",
    "import torch.optim as optim\n",
    "import torchvision\n",
    "import torchvision.transforms as transforms\n",
    "import matplotlib.pyplot as plt\n",
    "import numpy as np\n",
    "from torch.utils.data import Dataset, DataLoader, random_split\n",
    "from PIL import Image\n",
    "import os\n",
    "import pandas as pd\n",
    "from pathlib import Path\n",
    "import glob\n",
    "import time\n",
    "\n",
    "# Set random seed for reproducibility\n",
    "torch.manual_seed(42)\n",
    "np.random.seed(42)\n",
    "\n",
    "# Device configuration\n",
    "device = torch.device('cuda' if torch.cuda.is_available() else 'cpu')\n",
    "print(f\"Using device: {device}\")\n",
    "print(f\"PyTorch version: {torch.__version__}\")\n",
    "\n",
    "# Create output directory\n",
    "output_dir = \"05_data_loading_preprocessing_outputs\"\n",
    "os.makedirs(output_dir, exist_ok=True)"
   ]
  },
  {
   "cell_type": "markdown",
   "metadata": {},
   "source": [
    "## 1. Introduction to Data Handling\n",
    "\n",
    "Data loading and preprocessing are critical steps in any machine learning pipeline:\n",
    "\n",
    "- **Loading:** Reading data from various sources (files, databases)\n",
    "- **Preprocessing:** Cleaning, transforming, and structuring data\n",
    "- **Augmentation:** Artificially expanding the dataset for better generalization"
   ]
  },
  {
   "cell_type": "code",
   "execution_count": null,
   "metadata": {},
   "outputs": [],
   "source": [
    "# Demonstrate built-in datasets\n",
    "print(\"Using Built-in Datasets:\")\n",
    "print(\"-\" * 30)\n",
    "\n",
    "# Load MNIST dataset\n",
    "mnist_dataset = torchvision.datasets.MNIST(\n",
    "    root='./data', \n",
    "    train=True, \n",
    "    download=True, \n",
    "    transform=transforms.ToTensor()\n",
    ")\n",
    "\n",
    "print(f\"Dataset size: {len(mnist_dataset)}\")\n",
    "sample, label = mnist_dataset[0]\n",
    "print(f\"Sample shape: {sample.shape}\")\n",
    "print(f\"Sample dtype: {sample.dtype}\")\n",
    "print(f\"Label: {label}\")\n",
    "\n",
    "# Visualize a sample\n",
    "plt.figure(figsize=(8, 4))\n",
    "plt.subplot(1, 2, 1)\n",
    "plt.imshow(sample.squeeze(), cmap='gray')\n",
    "plt.title(f'MNIST Sample (Label: {label})')\n",
    "plt.axis('off')\n",
    "\n",
    "# Show multiple samples\n",
    "plt.subplot(1, 2, 2)\n",
    "fig, axes = plt.subplots(2, 3, figsize=(6, 4))\n",
    "for i, ax in enumerate(axes.flat):\n",
    "    if i < 6:\n",
    "        img, lbl = mnist_dataset[i]\n",
    "        ax.imshow(img.squeeze(), cmap='gray')\n",
    "        ax.set_title(f'Label: {lbl}')\n",
    "        ax.axis('off')\n",
    "plt.tight_layout()\n",
    "plt.show()"
   ]
  }
 ],
 "metadata": {
  "language_info": {
   "name": "python"
  }
 },
 "nbformat": 4,
 "nbformat_minor": 2
}
